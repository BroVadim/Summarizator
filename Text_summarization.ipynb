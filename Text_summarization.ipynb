{
 "cells": [
  {
   "cell_type": "markdown",
   "id": "0b21fb6f",
   "metadata": {},
   "source": [
    "## Алгоритм суммаризации\n",
    "- Очистка текста.\n",
    "- Токенизация текста.\n",
    "- Поиск частоты встречаемости слов и самого популярного слова.\n",
    "- Поиск взвешенной частоты встречаемости слов (Разделить частоту слова на количество повторений самого популярного слова).\n",
    "- Заменить в предложениях слова на их взвешенную частоту и посчитать итоговый вес предложений.\n",
    "- Отсортировать по весу предложения и выбрать первые n предложений."
   ]
  },
  {
   "cell_type": "markdown",
   "id": "02189783",
   "metadata": {},
   "source": [
    "### Импорт необходимых библиотек"
   ]
  },
  {
   "cell_type": "code",
   "execution_count": null,
   "id": "afdca175",
   "metadata": {},
   "outputs": [],
   "source": [
    "import re\n",
    "import nltk\n",
    "import pandas as pd"
   ]
  },
  {
   "cell_type": "markdown",
   "id": "5d8ddf60",
   "metadata": {},
   "source": [
    "### Очистка текста"
   ]
  },
  {
   "cell_type": "code",
   "execution_count": null,
   "id": "07c26f32",
   "metadata": {},
   "outputs": [],
   "source": [
    "def clean_text(text):\n",
    "    patterns = [r\"^[a-zA-Z]\",\n",
    "                r\"\\d{2}\\.\\d{2}\\.\\d{4}\",\n",
    "                r\"[0-9]\",\n",
    "                r\",\",\n",
    "                r\"\\s+\"]\n",
    "    for pattern in patterns:\n",
    "        text = re.sub(pattern, ' ', str(text))\n",
    "    return text.lower()"
   ]
  },
  {
   "cell_type": "markdown",
   "id": "6ff9be36",
   "metadata": {},
   "source": [
    "### Поиск частоты встречаемости слов"
   ]
  },
  {
   "cell_type": "code",
   "execution_count": null,
   "id": "385a9500",
   "metadata": {},
   "outputs": [],
   "source": [
    "def search_frequencies(text):\n",
    "    frequencies = {}\n",
    "    for word in nltk.word_tokenize(text):\n",
    "        if word not in frequencies.keys():\n",
    "            frequencies[word] = 1\n",
    "        else:\n",
    "            frequencies[word] += 1\n",
    "    return frequencies"
   ]
  },
  {
   "cell_type": "markdown",
   "id": "546652ed",
   "metadata": {},
   "source": [
    "### Поиск итогового веса каждого предложения"
   ]
  },
  {
   "cell_type": "code",
   "execution_count": null,
   "id": "31273543",
   "metadata": {},
   "outputs": [],
   "source": [
    "def search_sentences_scores(sentences_list, word_frequencies, sentence_length):\n",
    "    sentence_scores = {}\n",
    "    for sent in sentences_list:\n",
    "        for word in nltk.word_tokenize(sent.lower()):\n",
    "            if word in word_frequencies.keys():\n",
    "                if len(sent.split(' ')) < sentence_length:\n",
    "                    if sent not in sentence_scores.keys():\n",
    "                        sentence_scores[sent] = word_frequencies[word]\n",
    "                    else:\n",
    "                        sentence_scores[sent] += word_frequencies[word]\n",
    "    return sentence_scores"
   ]
  },
  {
   "cell_type": "markdown",
   "id": "6d196b3a",
   "metadata": {},
   "source": [
    "### Итоговая реализация"
   ]
  },
  {
   "cell_type": "code",
   "execution_count": null,
   "id": "bd4b7a54",
   "metadata": {},
   "outputs": [],
   "source": [
    "def summarize(text, sentence_length, number_sentences):\n",
    "    prepared_text = clean_text(text)\n",
    "    sl = nltk.sent_tokenize(text)\n",
    "    wf = search_frequencies(prepared_text)\n",
    "    sentence_scores = search_sentences_scores(sl, wf, sentence_length)\n",
    "    mf = max(wf.values())\n",
    "    for word in wf.keys():\n",
    "        wf[word] = (wf[word]/mf)\n",
    "    summary_sentences = heapq.nlargest(number_sentences,\n",
    "                                       sentence_scores,\n",
    "                                       key = sentence_scores.get)\n",
    "    summary = ' '.join(summary_sentences)\n",
    "    return summary"
   ]
  },
  {
   "cell_type": "code",
   "execution_count": null,
   "id": "b9c1a9af",
   "metadata": {},
   "outputs": [],
   "source": []
  },
  {
   "cell_type": "code",
   "execution_count": null,
   "id": "e0f779ce",
   "metadata": {},
   "outputs": [],
   "source": []
  }
 ],
 "metadata": {
  "kernelspec": {
   "display_name": "Python 3",
   "language": "python",
   "name": "python3"
  },
  "language_info": {
   "codemirror_mode": {
    "name": "ipython",
    "version": 3
   },
   "file_extension": ".py",
   "mimetype": "text/x-python",
   "name": "python",
   "nbconvert_exporter": "python",
   "pygments_lexer": "ipython3",
   "version": "3.8.1"
  }
 },
 "nbformat": 4,
 "nbformat_minor": 5
}
