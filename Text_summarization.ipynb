{
 "cells": [
  {
   "cell_type": "markdown",
   "id": "5a285e51",
   "metadata": {},
   "source": [
    "## Алгоритм суммаризации\n",
    "- Очистка текста.\n",
    "- Токенизация текста.\n",
    "- Поиск частоты встречаемости слов и самого популярного слова.\n",
    "- Поиск взвешенной частоты встречаемости слов (Разделить частоту слова на количество повторений самого популярного слова).\n",
    "- Заменить в предложениях слова на их взвешенную частоту и посчитать итоговый вес предложений.\n",
    "- Отсортировать по весу предложения и выбрать первые n предложений."
   ]
  },
  {
   "cell_type": "markdown",
   "id": "602caef9",
   "metadata": {},
   "source": [
    "### Импорт необходимых библиотек"
   ]
  },
  {
   "cell_type": "code",
   "execution_count": null,
   "id": "a5345535",
   "metadata": {},
   "outputs": [],
   "source": [
    "import re\n",
    "import nltk\n",
    "import pandas as pd"
   ]
  },
  {
   "cell_type": "markdown",
   "id": "aa94a1f5",
   "metadata": {},
   "source": [
    "### Очистка текста"
   ]
  },
  {
   "cell_type": "code",
   "execution_count": null,
   "id": "95bb0f0c",
   "metadata": {},
   "outputs": [],
   "source": [
    "def clean_text(text):\n",
    "    patterns = [r\"^[a-zA-Z]\",\n",
    "                r\"\\d{2}\\.\\d{2}\\.\\d{4}\",\n",
    "                r\"[0-9]\",\n",
    "                r\",\",\n",
    "                r\"\\s+\"]\n",
    "    for pattern in patterns:\n",
    "        text = re.sub(pattern, ' ', str(text))\n",
    "    return text.lower()"
   ]
  },
  {
   "cell_type": "markdown",
   "id": "7e443e34",
   "metadata": {},
   "source": [
    "### Поиск частоты встречаемости слов"
   ]
  },
  {
   "cell_type": "code",
   "execution_count": null,
   "id": "853ffb4b",
   "metadata": {},
   "outputs": [],
   "source": [
    "def search_frequencies(text):\n",
    "    frequencies = {}\n",
    "    for word in nltk.word_tokenize(text):\n",
    "        if word not in frequencies.keys():\n",
    "            frequencies[word] = 1\n",
    "        else:\n",
    "            frequencies[word] += 1\n",
    "    return frequencies"
   ]
  },
  {
   "cell_type": "markdown",
   "id": "9919e4db",
   "metadata": {},
   "source": [
    "### Поиск итогового веса каждого предложения"
   ]
  },
  {
   "cell_type": "code",
   "execution_count": null,
   "id": "417ab6b1",
   "metadata": {},
   "outputs": [],
   "source": [
    "def search_sentences_scores(sentences_list, word_frequencies, sentence_length):\n",
    "    sentence_scores = {}\n",
    "    for sent in sentences_list:\n",
    "        for word in nltk.word_tokenize(sent.lower()):\n",
    "            if word in word_frequencies.keys():\n",
    "                if len(sent.split(' ')) < sentence_length:\n",
    "                    if sent not in sentence_scores.keys():\n",
    "                        sentence_scores[sent] = word_frequencies[word]\n",
    "                    else:\n",
    "                        sentence_scores[sent] += word_frequencies[word]\n",
    "    return sentence_scores"
   ]
  },
  {
   "cell_type": "markdown",
   "id": "8720a2bb",
   "metadata": {},
   "source": [
    "### Итоговая реализация"
   ]
  },
  {
   "cell_type": "code",
   "execution_count": null,
   "id": "eb6e1d14",
   "metadata": {},
   "outputs": [],
   "source": [
    "def summarize(text, sentence_length, number_sentences):\n",
    "    prepared_text = clean_text(text)\n",
    "    sl = nltk.sent_tokenize(text)\n",
    "    wf = search_frequencies(prepared_text)\n",
    "    sentence_scores = search_sentences_scores(sl, wf, sentence_length)\n",
    "    mf = max(wf.values())\n",
    "    for word in wf.keys():\n",
    "        wf[word] = (wf[word]/mf)\n",
    "    summary_sentences = heapq.nlargest(number_sentences,\n",
    "                                       sentence_scores,\n",
    "                                       key = sentence_scores.get)\n",
    "    summary = ' '.join(summary_sentences)\n",
    "    return summary"
   ]
  },
  {
   "cell_type": "code",
   "execution_count": null,
   "id": "ddd7ee08",
   "metadata": {},
   "outputs": [],
   "source": [
    "df = pd.read_excel('file.xlsx')"
   ]
  },
  {
   "cell_type": "code",
   "execution_count": null,
   "id": "0f5af064",
   "metadata": {},
   "outputs": [],
   "source": [
    "summarize(text, 40, 5)"
   ]
  },
  {
   "cell_type": "code",
   "execution_count": null,
   "id": "e7d24b34",
   "metadata": {},
   "outputs": [],
   "source": []
  }
 ],
 "metadata": {
  "kernelspec": {
   "display_name": "Python 3",
   "language": "python",
   "name": "python3"
  },
  "language_info": {
   "codemirror_mode": {
    "name": "ipython",
    "version": 3
   },
   "file_extension": ".py",
   "mimetype": "text/x-python",
   "name": "python",
   "nbconvert_exporter": "python",
   "pygments_lexer": "ipython3",
   "version": "3.8.1"
  }
 },
 "nbformat": 4,
 "nbformat_minor": 5
}
