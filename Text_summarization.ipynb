{
 "cells": [
  {
   "cell_type": "markdown",
   "id": "57cd5d98",
   "metadata": {},
   "source": [
    "## Алгоритм суммаризации\n",
    "- Очистка текста.\n",
    "- Токенизация текста.\n",
    "- Поиск частоты встречаемости слов и самого популярного слова.\n",
    "- Поиск взвешенной частоты встречаемости слов (Разделить частоту слова на количество повторений самого популярного слова).\n",
    "- Заменить в предложениях слова на их взвешенную частоту и посчитать итоговый вес предложений.\n",
    "- Отсортировать по весу предложения и выбрать первые n предложений."
   ]
  },
  {
   "cell_type": "markdown",
   "id": "8f593c7f",
   "metadata": {},
   "source": [
    "### Импорт необходимых библиотек"
   ]
  },
  {
   "cell_type": "code",
   "execution_count": 2,
   "id": "aede48a8",
   "metadata": {},
   "outputs": [],
   "source": [
    "import re\n",
    "import nltk\n",
    "import pandas as pd"
   ]
  },
  {
   "cell_type": "code",
   "execution_count": 3,
   "id": "b3e979eb",
   "metadata": {},
   "outputs": [],
   "source": [
    "def clean_text(self, text):\n",
    "    patterns = [r\"^[a-zA-Z]\",\n",
    "                r\"\\d{2}\\.\\d{2}\\.\\d{4}\",\n",
    "                r\"[0-9]\",\n",
    "                r\",\",\n",
    "                r\"\\s+\"]\n",
    "    for pattern in patterns:\n",
    "        text = re.sub(pattern, ' ', str(text))\n",
    "    return text.lower()"
   ]
  },
  {
   "cell_type": "code",
   "execution_count": 4,
   "id": "d27a11e0",
   "metadata": {},
   "outputs": [],
   "source": [
    "def search_frequencies(self, text):\n",
    "    frequencies = {}\n",
    "    for word in nltk.word_tokenize(text):\n",
    "        if word not in frequencies.keys():\n",
    "            frequencies[word] = 1\n",
    "        else:\n",
    "            frequencies[word] += 1\n",
    "    return frequencies"
   ]
  },
  {
   "cell_type": "code",
   "execution_count": null,
   "id": "8b9b0399",
   "metadata": {},
   "outputs": [],
   "source": []
  }
 ],
 "metadata": {
  "kernelspec": {
   "display_name": "Python 3",
   "language": "python",
   "name": "python3"
  },
  "language_info": {
   "codemirror_mode": {
    "name": "ipython",
    "version": 3
   },
   "file_extension": ".py",
   "mimetype": "text/x-python",
   "name": "python",
   "nbconvert_exporter": "python",
   "pygments_lexer": "ipython3",
   "version": "3.8.1"
  }
 },
 "nbformat": 4,
 "nbformat_minor": 5
}
